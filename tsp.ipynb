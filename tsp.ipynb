{
 "cells": [
  {
   "cell_type": "code",
   "execution_count": 6,
   "metadata": {},
   "outputs": [],
   "source": [
    "import logging\n",
    "from itertools import combinations\n",
    "import pandas as pd\n",
    "import numpy as np\n",
    "from geopy.distance import geodesic\n",
    "import networkx as nx\n",
    "\n",
    "import random\n",
    "import math\n",
    "\n",
    "from icecream import ic\n",
    "\n",
    "logging.basicConfig(level=logging.DEBUG)"
   ]
  },
  {
   "cell_type": "code",
   "execution_count": 7,
   "metadata": {},
   "outputs": [],
   "source": [
    "CITIES = pd.read_csv('cities/vanuatu.csv', header=None, names=['name', 'lat', 'lon'])\n",
    "DIST_MATRIX = np.zeros((len(CITIES), len(CITIES)))\n",
    "for c1, c2 in combinations(CITIES.itertuples(), 2):\n",
    "    DIST_MATRIX[c1.Index, c2.Index] = DIST_MATRIX[c2.Index, c1.Index] = geodesic(\n",
    "        (c1.lat, c1.lon), (c2.lat, c2.lon)\n",
    "    ).km\n",
    "    \n",
    "dist_df = pd.DataFrame(DIST_MATRIX, index=CITIES['name'], columns=CITIES['name'])"
   ]
  },
  {
   "cell_type": "code",
   "execution_count": 8,
   "metadata": {},
   "outputs": [],
   "source": [
    "def tsp_cost(tsp):\n",
    "    assert tsp[0] == tsp[-1] #check the return to te starting city\n",
    "    assert set(tsp) == set(range(len(CITIES))) #check to visit each cities\n",
    "\n",
    "    tot_cost = 0\n",
    "    for c1, c2 in zip(tsp, tsp[1:]):\n",
    "        tot_cost += DIST_MATRIX[c1, c2]\n",
    "        \n",
    "    return tot_cost\n"
   ]
  },
  {
   "cell_type": "markdown",
   "metadata": {},
   "source": [
    "# Simulated Annealing"
   ]
  },
  {
   "cell_type": "code",
   "execution_count": 9,
   "metadata": {},
   "outputs": [
    {
     "name": "stdout",
     "output_type": "stream",
     "text": [
      "Nuova miglior soluzione: costo = 1627.878003117094\n",
      "Nuova miglior soluzione: costo = 1534.702855357689\n",
      "Nuova miglior soluzione: costo = 1533.6561222633416\n",
      "Nuova miglior soluzione: costo = 1498.3399039540736\n",
      "Nuova miglior soluzione: costo = 1493.4287201697678\n",
      "Nuova miglior soluzione: costo = 1397.6399891301412\n",
      "Nuova miglior soluzione: costo = 1353.081827808743\n",
      "Nuova miglior soluzione: costo = 1350.456140257617\n",
      "Nuova miglior soluzione: costo = 1345.5449564733115\n",
      "Nuova miglior soluzione: costo = 1345.5449564733112\n",
      "Best tour found: [5, 6, 2, 0, 7, 1, 4, 3, 5]\n",
      "Distance of best tour: 1345.5449564733112\n"
     ]
    }
   ],
   "source": [
    "# Funzione per generare un vicino (mutazione con scambio di due città)\n",
    "def generate_neighbor(tour):\n",
    "    new_tour = tour[:]\n",
    "    i, j = random.sample(range(1, len(tour) - 1), 2)  # Escludiamo il primo e l'ultimo per mantenere l'inizio e la fine uguali\n",
    "    new_tour[i], new_tour[j] = new_tour[j], new_tour[i]\n",
    "    return new_tour\n",
    "\n",
    "# Algoritmo di Simulated Annealing\n",
    "def simulated_annealing(dist_matrix, initial_temp=10000, cooling_rate=0.995, temp_min=1):\n",
    "    # Inizializza un tour casuale che inizia e finisce nella stessa città\n",
    "    num_cities = dist_matrix.shape[0]\n",
    "    current_tour = list(range(num_cities))\n",
    "    random.shuffle(current_tour)\n",
    "    current_tour.append(current_tour[0])  # Assicurati che il tour ritorni alla città di partenza\n",
    "    \n",
    "    # Calcola il costo del tour iniziale\n",
    "    current_cost = tsp_cost(current_tour)\n",
    "    best_tour = current_tour[:]\n",
    "    best_cost = current_cost\n",
    "\n",
    "    temp = initial_temp\n",
    "    \n",
    "    while temp > temp_min:\n",
    "        # Genera un tour vicino al tour corrente\n",
    "        neighbor_tour = generate_neighbor(current_tour)\n",
    "        neighbor_cost = tsp_cost(neighbor_tour)\n",
    "        \n",
    "        # Calcola la differenza di costo tra il tour attuale e il vicino\n",
    "        delta_cost = neighbor_cost - current_cost\n",
    "\n",
    "        # Accetta il nuovo tour se è migliore, o con una probabilità decrescente se è peggiore\n",
    "        if delta_cost < 0 or random.random() < math.exp(-delta_cost / temp):\n",
    "            current_tour, current_cost = neighbor_tour, neighbor_cost\n",
    "            \n",
    "            # Aggiorna la migliore soluzione trovata\n",
    "            if current_cost < best_cost:\n",
    "                best_tour, best_cost = current_tour, current_cost\n",
    "                print(f\"Nuova miglior soluzione: costo = {best_cost}\")\n",
    "\n",
    "        # Riduci la temperatura\n",
    "        temp *= cooling_rate\n",
    "    \n",
    "    return best_tour, best_cost\n",
    "\n",
    "# Esegui l'algoritmo di Simulated Annealing\n",
    "best_tour, best_distance = simulated_annealing(DIST_MATRIX)\n",
    "print(\"Best tour found:\", best_tour)\n",
    "print(\"Distance of best tour:\", best_distance)"
   ]
  },
  {
   "cell_type": "markdown",
   "metadata": {},
   "source": [
    "# Hybrid Implementation"
   ]
  },
  {
   "cell_type": "code",
   "execution_count": 10,
   "metadata": {},
   "outputs": [
    {
     "name": "stdout",
     "output_type": "stream",
     "text": [
      "Best tour found: [0, 7, 1, 4, 3, 5, 6, 2, 0]\n",
      "Distance of best tour: 1345.5449564733112\n"
     ]
    }
   ],
   "source": [
    "# Funzione 2-opt per miglioramento locale\n",
    "def two_opt(tour):\n",
    "    best = tour[:]\n",
    "    improved = True\n",
    "    while improved:\n",
    "        improved = False\n",
    "        for i in range(1, len(tour) - 2):\n",
    "            for j in range(i + 1, len(tour) - 1):\n",
    "                if DIST_MATRIX[best[i - 1], best[i]] + DIST_MATRIX[best[j], best[j + 1]] > DIST_MATRIX[best[i - 1], best[j]] + DIST_MATRIX[best[i], best[j + 1]]:\n",
    "                    best[i:j+1] = best[i:j+1][::-1]\n",
    "                    improved = True\n",
    "    return best\n",
    "\n",
    "# Scramble mutation\n",
    "def scramble_mutation(tour):\n",
    "    new_tour = tour[:]\n",
    "    i, j = sorted(random.sample(range(1, len(tour) - 1), 2))\n",
    "    scrambled_part = new_tour[i:j]\n",
    "    random.shuffle(scrambled_part)\n",
    "    new_tour[i:j] = scrambled_part\n",
    "    return new_tour\n",
    "\n",
    "# Nearest Neighbor tour per generare la popolazione iniziale\n",
    "def nearest_neighbor_tour(start_city):\n",
    "    unvisited = set(range(len(CITIES)))\n",
    "    unvisited.remove(start_city)\n",
    "    tour = [start_city]\n",
    "    current_city = start_city\n",
    "    while unvisited:\n",
    "        next_city = min(unvisited, key=lambda city: DIST_MATRIX[current_city, city])\n",
    "        unvisited.remove(next_city)\n",
    "        tour.append(next_city)\n",
    "        current_city = next_city\n",
    "    tour.append(start_city)\n",
    "    return tour\n",
    "\n",
    "# Crea la popolazione iniziale\n",
    "population = [two_opt(nearest_neighbor_tour(i)) for i in range(len(CITIES))]\n",
    "\n",
    "# Funzione di evoluzione\n",
    "def evolve_population(population, generations=100):\n",
    "    best_solution = min(population, key=tsp_cost)\n",
    "    best_cost = tsp_cost(best_solution)\n",
    "    \n",
    "    for generation in range(generations):\n",
    "        new_population = []\n",
    "\n",
    "        # Elitismo: mantieni il migliore\n",
    "        new_population.append(best_solution)\n",
    "        \n",
    "        while len(new_population) < len(population):\n",
    "            # Seleziona un individuo e applica la mutazione\n",
    "            parent = random.choice(population)\n",
    "            child = scramble_mutation(parent[:])\n",
    "            \n",
    "            # Miglioramento locale con 2-opt\n",
    "            child = two_opt(child)\n",
    "            \n",
    "            new_population.append(child)\n",
    "        \n",
    "        # Valuta la nuova popolazione\n",
    "        population = new_population\n",
    "        current_best = min(population, key=tsp_cost)\n",
    "        current_best_cost = tsp_cost(current_best)\n",
    "        \n",
    "        if current_best_cost < best_cost:\n",
    "            best_solution, best_cost = current_best, current_best_cost\n",
    "            print(f\"Generazione {generation}, Miglior costo: {best_cost}\")\n",
    "    \n",
    "    return best_solution, best_cost\n",
    "\n",
    "# Esegui l'algoritmo genetico\n",
    "best_tour, best_distance = evolve_population(population)\n",
    "print(\"Best tour found:\", best_tour)\n",
    "print(\"Distance of best tour:\", best_distance)"
   ]
  }
 ],
 "metadata": {
  "kernelspec": {
   "display_name": "CI_venv",
   "language": "python",
   "name": "python3"
  },
  "language_info": {
   "codemirror_mode": {
    "name": "ipython",
    "version": 3
   },
   "file_extension": ".py",
   "mimetype": "text/x-python",
   "name": "python",
   "nbconvert_exporter": "python",
   "pygments_lexer": "ipython3",
   "version": "3.12.6"
  }
 },
 "nbformat": 4,
 "nbformat_minor": 2
}
